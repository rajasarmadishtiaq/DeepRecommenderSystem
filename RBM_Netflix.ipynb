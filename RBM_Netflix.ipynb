{
  "nbformat": 4,
  "nbformat_minor": 0,
  "metadata": {
    "colab": {
      "provenance": [],
      "gpuType": "T4"
    },
    "kernelspec": {
      "name": "python3",
      "display_name": "Python 3"
    },
    "language_info": {
      "name": "python"
    },
    "accelerator": "GPU"
  },
  "cells": [
    {
      "cell_type": "code",
      "execution_count": null,
      "metadata": {
        "id": "MpJHqUPMH8_K"
      },
      "outputs": [],
      "source": [
        "import tensorflow as tf\n",
        "import numpy as np\n",
        "import pandas as pd\n",
        "import matplotlib.pyplot as plt\n",
        "from sklearn.model_selection import train_test_split\n",
        "from google.colab import drive\n",
        "import seaborn as sns\n",
        "import gc\n",
        "import tensorflow_probability as tfp"
      ]
    },
    {
      "cell_type": "code",
      "source": [
        "drive.mount('/content/drive')"
      ],
      "metadata": {
        "colab": {
          "base_uri": "https://localhost:8080/"
        },
        "id": "JCckPy5FILg_",
        "outputId": "9e61e67d-1e72-403c-d7fb-01eb10206d3e"
      },
      "execution_count": null,
      "outputs": [
        {
          "output_type": "stream",
          "name": "stdout",
          "text": [
            "Drive already mounted at /content/drive; to attempt to forcibly remount, call drive.mount(\"/content/drive\", force_remount=True).\n"
          ]
        }
      ]
    },
    {
      "cell_type": "code",
      "source": [
        "df = pd.read_csv('drive/MyDrive/Datasets/Netflix Movies Recommendation/processed.csv')"
      ],
      "metadata": {
        "id": "FPQ09kOmIMPL"
      },
      "execution_count": null,
      "outputs": []
    },
    {
      "cell_type": "code",
      "source": [
        "df"
      ],
      "metadata": {
        "colab": {
          "base_uri": "https://localhost:8080/",
          "height": 419
        },
        "id": "2wgDMrMRIrtq",
        "outputId": "cb931777-d74c-44a9-804c-fffdeb700a8c"
      },
      "execution_count": null,
      "outputs": [
        {
          "output_type": "execute_result",
          "data": {
            "text/plain": [
              "            userId  rating  movieId\n",
              "0          1488844     3.0        1\n",
              "1           822109     5.0        1\n",
              "2           885013     4.0        1\n",
              "3            30878     4.0        1\n",
              "4           823519     3.0        1\n",
              "...            ...     ...      ...\n",
              "100480502  1790158     4.0    17770\n",
              "100480503  1608708     3.0    17770\n",
              "100480504   234275     1.0    17770\n",
              "100480505   255278     4.0    17770\n",
              "100480506   453585     2.0    17770\n",
              "\n",
              "[100480507 rows x 3 columns]"
            ],
            "text/html": [
              "\n",
              "  <div id=\"df-3b56e158-40db-4d5f-8f43-a897abf3b79b\" class=\"colab-df-container\">\n",
              "    <div>\n",
              "<style scoped>\n",
              "    .dataframe tbody tr th:only-of-type {\n",
              "        vertical-align: middle;\n",
              "    }\n",
              "\n",
              "    .dataframe tbody tr th {\n",
              "        vertical-align: top;\n",
              "    }\n",
              "\n",
              "    .dataframe thead th {\n",
              "        text-align: right;\n",
              "    }\n",
              "</style>\n",
              "<table border=\"1\" class=\"dataframe\">\n",
              "  <thead>\n",
              "    <tr style=\"text-align: right;\">\n",
              "      <th></th>\n",
              "      <th>userId</th>\n",
              "      <th>rating</th>\n",
              "      <th>movieId</th>\n",
              "    </tr>\n",
              "  </thead>\n",
              "  <tbody>\n",
              "    <tr>\n",
              "      <th>0</th>\n",
              "      <td>1488844</td>\n",
              "      <td>3.0</td>\n",
              "      <td>1</td>\n",
              "    </tr>\n",
              "    <tr>\n",
              "      <th>1</th>\n",
              "      <td>822109</td>\n",
              "      <td>5.0</td>\n",
              "      <td>1</td>\n",
              "    </tr>\n",
              "    <tr>\n",
              "      <th>2</th>\n",
              "      <td>885013</td>\n",
              "      <td>4.0</td>\n",
              "      <td>1</td>\n",
              "    </tr>\n",
              "    <tr>\n",
              "      <th>3</th>\n",
              "      <td>30878</td>\n",
              "      <td>4.0</td>\n",
              "      <td>1</td>\n",
              "    </tr>\n",
              "    <tr>\n",
              "      <th>4</th>\n",
              "      <td>823519</td>\n",
              "      <td>3.0</td>\n",
              "      <td>1</td>\n",
              "    </tr>\n",
              "    <tr>\n",
              "      <th>...</th>\n",
              "      <td>...</td>\n",
              "      <td>...</td>\n",
              "      <td>...</td>\n",
              "    </tr>\n",
              "    <tr>\n",
              "      <th>100480502</th>\n",
              "      <td>1790158</td>\n",
              "      <td>4.0</td>\n",
              "      <td>17770</td>\n",
              "    </tr>\n",
              "    <tr>\n",
              "      <th>100480503</th>\n",
              "      <td>1608708</td>\n",
              "      <td>3.0</td>\n",
              "      <td>17770</td>\n",
              "    </tr>\n",
              "    <tr>\n",
              "      <th>100480504</th>\n",
              "      <td>234275</td>\n",
              "      <td>1.0</td>\n",
              "      <td>17770</td>\n",
              "    </tr>\n",
              "    <tr>\n",
              "      <th>100480505</th>\n",
              "      <td>255278</td>\n",
              "      <td>4.0</td>\n",
              "      <td>17770</td>\n",
              "    </tr>\n",
              "    <tr>\n",
              "      <th>100480506</th>\n",
              "      <td>453585</td>\n",
              "      <td>2.0</td>\n",
              "      <td>17770</td>\n",
              "    </tr>\n",
              "  </tbody>\n",
              "</table>\n",
              "<p>100480507 rows × 3 columns</p>\n",
              "</div>\n",
              "    <div class=\"colab-df-buttons\">\n",
              "\n",
              "  <div class=\"colab-df-container\">\n",
              "    <button class=\"colab-df-convert\" onclick=\"convertToInteractive('df-3b56e158-40db-4d5f-8f43-a897abf3b79b')\"\n",
              "            title=\"Convert this dataframe to an interactive table.\"\n",
              "            style=\"display:none;\">\n",
              "\n",
              "  <svg xmlns=\"http://www.w3.org/2000/svg\" height=\"24px\" viewBox=\"0 -960 960 960\">\n",
              "    <path d=\"M120-120v-720h720v720H120Zm60-500h600v-160H180v160Zm220 220h160v-160H400v160Zm0 220h160v-160H400v160ZM180-400h160v-160H180v160Zm440 0h160v-160H620v160ZM180-180h160v-160H180v160Zm440 0h160v-160H620v160Z\"/>\n",
              "  </svg>\n",
              "    </button>\n",
              "\n",
              "  <style>\n",
              "    .colab-df-container {\n",
              "      display:flex;\n",
              "      gap: 12px;\n",
              "    }\n",
              "\n",
              "    .colab-df-convert {\n",
              "      background-color: #E8F0FE;\n",
              "      border: none;\n",
              "      border-radius: 50%;\n",
              "      cursor: pointer;\n",
              "      display: none;\n",
              "      fill: #1967D2;\n",
              "      height: 32px;\n",
              "      padding: 0 0 0 0;\n",
              "      width: 32px;\n",
              "    }\n",
              "\n",
              "    .colab-df-convert:hover {\n",
              "      background-color: #E2EBFA;\n",
              "      box-shadow: 0px 1px 2px rgba(60, 64, 67, 0.3), 0px 1px 3px 1px rgba(60, 64, 67, 0.15);\n",
              "      fill: #174EA6;\n",
              "    }\n",
              "\n",
              "    .colab-df-buttons div {\n",
              "      margin-bottom: 4px;\n",
              "    }\n",
              "\n",
              "    [theme=dark] .colab-df-convert {\n",
              "      background-color: #3B4455;\n",
              "      fill: #D2E3FC;\n",
              "    }\n",
              "\n",
              "    [theme=dark] .colab-df-convert:hover {\n",
              "      background-color: #434B5C;\n",
              "      box-shadow: 0px 1px 3px 1px rgba(0, 0, 0, 0.15);\n",
              "      filter: drop-shadow(0px 1px 2px rgba(0, 0, 0, 0.3));\n",
              "      fill: #FFFFFF;\n",
              "    }\n",
              "  </style>\n",
              "\n",
              "    <script>\n",
              "      const buttonEl =\n",
              "        document.querySelector('#df-3b56e158-40db-4d5f-8f43-a897abf3b79b button.colab-df-convert');\n",
              "      buttonEl.style.display =\n",
              "        google.colab.kernel.accessAllowed ? 'block' : 'none';\n",
              "\n",
              "      async function convertToInteractive(key) {\n",
              "        const element = document.querySelector('#df-3b56e158-40db-4d5f-8f43-a897abf3b79b');\n",
              "        const dataTable =\n",
              "          await google.colab.kernel.invokeFunction('convertToInteractive',\n",
              "                                                    [key], {});\n",
              "        if (!dataTable) return;\n",
              "\n",
              "        const docLinkHtml = 'Like what you see? Visit the ' +\n",
              "          '<a target=\"_blank\" href=https://colab.research.google.com/notebooks/data_table.ipynb>data table notebook</a>'\n",
              "          + ' to learn more about interactive tables.';\n",
              "        element.innerHTML = '';\n",
              "        dataTable['output_type'] = 'display_data';\n",
              "        await google.colab.output.renderOutput(dataTable, element);\n",
              "        const docLink = document.createElement('div');\n",
              "        docLink.innerHTML = docLinkHtml;\n",
              "        element.appendChild(docLink);\n",
              "      }\n",
              "    </script>\n",
              "  </div>\n",
              "\n",
              "\n",
              "<div id=\"df-e8cf2137-e4aa-46ad-92a7-9163de86ddf1\">\n",
              "  <button class=\"colab-df-quickchart\" onclick=\"quickchart('df-e8cf2137-e4aa-46ad-92a7-9163de86ddf1')\"\n",
              "            title=\"Suggest charts.\"\n",
              "            style=\"display:none;\">\n",
              "\n",
              "<svg xmlns=\"http://www.w3.org/2000/svg\" height=\"24px\"viewBox=\"0 0 24 24\"\n",
              "     width=\"24px\">\n",
              "    <g>\n",
              "        <path d=\"M19 3H5c-1.1 0-2 .9-2 2v14c0 1.1.9 2 2 2h14c1.1 0 2-.9 2-2V5c0-1.1-.9-2-2-2zM9 17H7v-7h2v7zm4 0h-2V7h2v10zm4 0h-2v-4h2v4z\"/>\n",
              "    </g>\n",
              "</svg>\n",
              "  </button>\n",
              "\n",
              "<style>\n",
              "  .colab-df-quickchart {\n",
              "      --bg-color: #E8F0FE;\n",
              "      --fill-color: #1967D2;\n",
              "      --hover-bg-color: #E2EBFA;\n",
              "      --hover-fill-color: #174EA6;\n",
              "      --disabled-fill-color: #AAA;\n",
              "      --disabled-bg-color: #DDD;\n",
              "  }\n",
              "\n",
              "  [theme=dark] .colab-df-quickchart {\n",
              "      --bg-color: #3B4455;\n",
              "      --fill-color: #D2E3FC;\n",
              "      --hover-bg-color: #434B5C;\n",
              "      --hover-fill-color: #FFFFFF;\n",
              "      --disabled-bg-color: #3B4455;\n",
              "      --disabled-fill-color: #666;\n",
              "  }\n",
              "\n",
              "  .colab-df-quickchart {\n",
              "    background-color: var(--bg-color);\n",
              "    border: none;\n",
              "    border-radius: 50%;\n",
              "    cursor: pointer;\n",
              "    display: none;\n",
              "    fill: var(--fill-color);\n",
              "    height: 32px;\n",
              "    padding: 0;\n",
              "    width: 32px;\n",
              "  }\n",
              "\n",
              "  .colab-df-quickchart:hover {\n",
              "    background-color: var(--hover-bg-color);\n",
              "    box-shadow: 0 1px 2px rgba(60, 64, 67, 0.3), 0 1px 3px 1px rgba(60, 64, 67, 0.15);\n",
              "    fill: var(--button-hover-fill-color);\n",
              "  }\n",
              "\n",
              "  .colab-df-quickchart-complete:disabled,\n",
              "  .colab-df-quickchart-complete:disabled:hover {\n",
              "    background-color: var(--disabled-bg-color);\n",
              "    fill: var(--disabled-fill-color);\n",
              "    box-shadow: none;\n",
              "  }\n",
              "\n",
              "  .colab-df-spinner {\n",
              "    border: 2px solid var(--fill-color);\n",
              "    border-color: transparent;\n",
              "    border-bottom-color: var(--fill-color);\n",
              "    animation:\n",
              "      spin 1s steps(1) infinite;\n",
              "  }\n",
              "\n",
              "  @keyframes spin {\n",
              "    0% {\n",
              "      border-color: transparent;\n",
              "      border-bottom-color: var(--fill-color);\n",
              "      border-left-color: var(--fill-color);\n",
              "    }\n",
              "    20% {\n",
              "      border-color: transparent;\n",
              "      border-left-color: var(--fill-color);\n",
              "      border-top-color: var(--fill-color);\n",
              "    }\n",
              "    30% {\n",
              "      border-color: transparent;\n",
              "      border-left-color: var(--fill-color);\n",
              "      border-top-color: var(--fill-color);\n",
              "      border-right-color: var(--fill-color);\n",
              "    }\n",
              "    40% {\n",
              "      border-color: transparent;\n",
              "      border-right-color: var(--fill-color);\n",
              "      border-top-color: var(--fill-color);\n",
              "    }\n",
              "    60% {\n",
              "      border-color: transparent;\n",
              "      border-right-color: var(--fill-color);\n",
              "    }\n",
              "    80% {\n",
              "      border-color: transparent;\n",
              "      border-right-color: var(--fill-color);\n",
              "      border-bottom-color: var(--fill-color);\n",
              "    }\n",
              "    90% {\n",
              "      border-color: transparent;\n",
              "      border-bottom-color: var(--fill-color);\n",
              "    }\n",
              "  }\n",
              "</style>\n",
              "\n",
              "  <script>\n",
              "    async function quickchart(key) {\n",
              "      const quickchartButtonEl =\n",
              "        document.querySelector('#' + key + ' button');\n",
              "      quickchartButtonEl.disabled = true;  // To prevent multiple clicks.\n",
              "      quickchartButtonEl.classList.add('colab-df-spinner');\n",
              "      try {\n",
              "        const charts = await google.colab.kernel.invokeFunction(\n",
              "            'suggestCharts', [key], {});\n",
              "      } catch (error) {\n",
              "        console.error('Error during call to suggestCharts:', error);\n",
              "      }\n",
              "      quickchartButtonEl.classList.remove('colab-df-spinner');\n",
              "      quickchartButtonEl.classList.add('colab-df-quickchart-complete');\n",
              "    }\n",
              "    (() => {\n",
              "      let quickchartButtonEl =\n",
              "        document.querySelector('#df-e8cf2137-e4aa-46ad-92a7-9163de86ddf1 button');\n",
              "      quickchartButtonEl.style.display =\n",
              "        google.colab.kernel.accessAllowed ? 'block' : 'none';\n",
              "    })();\n",
              "  </script>\n",
              "</div>\n",
              "    </div>\n",
              "  </div>\n"
            ]
          },
          "metadata": {},
          "execution_count": 4
        }
      ]
    },
    {
      "cell_type": "code",
      "source": [
        "movieIndex = df.groupby(\"movieId\").count().sort_values(by=\"rating\",ascending=False)[0:1000].index\n",
        "df2 = df[df.movieId.isin(movieIndex)]\n",
        "df2.count()"
      ],
      "metadata": {
        "colab": {
          "base_uri": "https://localhost:8080/"
        },
        "id": "Z76qyN_-MNbQ",
        "outputId": "b9f444b8-592a-4d78-e3e3-b653ebcd6811"
      },
      "execution_count": null,
      "outputs": [
        {
          "output_type": "execute_result",
          "data": {
            "text/plain": [
              "userId     62838505\n",
              "rating     62838505\n",
              "movieId    62838505\n",
              "dtype: int64"
            ]
          },
          "metadata": {},
          "execution_count": 5
        }
      ]
    },
    {
      "cell_type": "code",
      "source": [
        "userIndex = df2.groupby(\"userId\").count().sort_values(by=\"rating\",ascending=False).sample(n=1000, random_state=2018).index\n",
        "df3 = df2[df2.userId.isin(userIndex)]\n",
        "df3.count()"
      ],
      "metadata": {
        "colab": {
          "base_uri": "https://localhost:8080/"
        },
        "id": "OA74nzVmMjXc",
        "outputId": "bd45122c-db2f-44d8-9b9c-a0d5e76dbd73"
      },
      "execution_count": null,
      "outputs": [
        {
          "output_type": "execute_result",
          "data": {
            "text/plain": [
              "userId     133172\n",
              "rating     133172\n",
              "movieId    133172\n",
              "dtype: int64"
            ]
          },
          "metadata": {},
          "execution_count": 6
        }
      ]
    },
    {
      "cell_type": "code",
      "source": [
        "movies = df3.movieId.unique()\n",
        "moviesDF = pd.DataFrame(data=movies,columns=['originalMovieId'])\n",
        "moviesDF['newMovieId'] = moviesDF.index+1\n",
        "\n",
        "users = df3.userId.unique()\n",
        "usersDF = pd.DataFrame(data=users,columns=['originalUserId'])\n",
        "usersDF['newUserId'] = usersDF.index+1\n",
        "\n",
        "ratingDF = df3.merge(moviesDF,left_on='movieId',right_on='originalMovieId')\n",
        "ratingDF.drop(labels='originalMovieId', axis=1, inplace=True)\n",
        "\n",
        "ratingDF = ratingDF.merge(usersDF,left_on='userId',right_on='originalUserId')\n",
        "ratingDF.drop(labels='originalUserId', axis=1, inplace=True)\n",
        "\n",
        "ratingDF.head()"
      ],
      "metadata": {
        "colab": {
          "base_uri": "https://localhost:8080/",
          "height": 204
        },
        "id": "yFvie0paM9Dj",
        "outputId": "7aca6f42-2f1d-45d7-cdea-19721e7ccfe2"
      },
      "execution_count": null,
      "outputs": [
        {
          "output_type": "execute_result",
          "data": {
            "text/plain": [
              "   userId  rating  movieId  newMovieId  newUserId\n",
              "0  140736     5.0       28           1          1\n",
              "1  140736     3.0      175           5          1\n",
              "2  140736     5.0      191           6          1\n",
              "3  140736     5.0      312          16          1\n",
              "4  140736     5.0      483          30          1"
            ],
            "text/html": [
              "\n",
              "  <div id=\"df-97853019-1b2a-48d5-8bd4-ed6c8d0bc538\" class=\"colab-df-container\">\n",
              "    <div>\n",
              "<style scoped>\n",
              "    .dataframe tbody tr th:only-of-type {\n",
              "        vertical-align: middle;\n",
              "    }\n",
              "\n",
              "    .dataframe tbody tr th {\n",
              "        vertical-align: top;\n",
              "    }\n",
              "\n",
              "    .dataframe thead th {\n",
              "        text-align: right;\n",
              "    }\n",
              "</style>\n",
              "<table border=\"1\" class=\"dataframe\">\n",
              "  <thead>\n",
              "    <tr style=\"text-align: right;\">\n",
              "      <th></th>\n",
              "      <th>userId</th>\n",
              "      <th>rating</th>\n",
              "      <th>movieId</th>\n",
              "      <th>newMovieId</th>\n",
              "      <th>newUserId</th>\n",
              "    </tr>\n",
              "  </thead>\n",
              "  <tbody>\n",
              "    <tr>\n",
              "      <th>0</th>\n",
              "      <td>140736</td>\n",
              "      <td>5.0</td>\n",
              "      <td>28</td>\n",
              "      <td>1</td>\n",
              "      <td>1</td>\n",
              "    </tr>\n",
              "    <tr>\n",
              "      <th>1</th>\n",
              "      <td>140736</td>\n",
              "      <td>3.0</td>\n",
              "      <td>175</td>\n",
              "      <td>5</td>\n",
              "      <td>1</td>\n",
              "    </tr>\n",
              "    <tr>\n",
              "      <th>2</th>\n",
              "      <td>140736</td>\n",
              "      <td>5.0</td>\n",
              "      <td>191</td>\n",
              "      <td>6</td>\n",
              "      <td>1</td>\n",
              "    </tr>\n",
              "    <tr>\n",
              "      <th>3</th>\n",
              "      <td>140736</td>\n",
              "      <td>5.0</td>\n",
              "      <td>312</td>\n",
              "      <td>16</td>\n",
              "      <td>1</td>\n",
              "    </tr>\n",
              "    <tr>\n",
              "      <th>4</th>\n",
              "      <td>140736</td>\n",
              "      <td>5.0</td>\n",
              "      <td>483</td>\n",
              "      <td>30</td>\n",
              "      <td>1</td>\n",
              "    </tr>\n",
              "  </tbody>\n",
              "</table>\n",
              "</div>\n",
              "    <div class=\"colab-df-buttons\">\n",
              "\n",
              "  <div class=\"colab-df-container\">\n",
              "    <button class=\"colab-df-convert\" onclick=\"convertToInteractive('df-97853019-1b2a-48d5-8bd4-ed6c8d0bc538')\"\n",
              "            title=\"Convert this dataframe to an interactive table.\"\n",
              "            style=\"display:none;\">\n",
              "\n",
              "  <svg xmlns=\"http://www.w3.org/2000/svg\" height=\"24px\" viewBox=\"0 -960 960 960\">\n",
              "    <path d=\"M120-120v-720h720v720H120Zm60-500h600v-160H180v160Zm220 220h160v-160H400v160Zm0 220h160v-160H400v160ZM180-400h160v-160H180v160Zm440 0h160v-160H620v160ZM180-180h160v-160H180v160Zm440 0h160v-160H620v160Z\"/>\n",
              "  </svg>\n",
              "    </button>\n",
              "\n",
              "  <style>\n",
              "    .colab-df-container {\n",
              "      display:flex;\n",
              "      gap: 12px;\n",
              "    }\n",
              "\n",
              "    .colab-df-convert {\n",
              "      background-color: #E8F0FE;\n",
              "      border: none;\n",
              "      border-radius: 50%;\n",
              "      cursor: pointer;\n",
              "      display: none;\n",
              "      fill: #1967D2;\n",
              "      height: 32px;\n",
              "      padding: 0 0 0 0;\n",
              "      width: 32px;\n",
              "    }\n",
              "\n",
              "    .colab-df-convert:hover {\n",
              "      background-color: #E2EBFA;\n",
              "      box-shadow: 0px 1px 2px rgba(60, 64, 67, 0.3), 0px 1px 3px 1px rgba(60, 64, 67, 0.15);\n",
              "      fill: #174EA6;\n",
              "    }\n",
              "\n",
              "    .colab-df-buttons div {\n",
              "      margin-bottom: 4px;\n",
              "    }\n",
              "\n",
              "    [theme=dark] .colab-df-convert {\n",
              "      background-color: #3B4455;\n",
              "      fill: #D2E3FC;\n",
              "    }\n",
              "\n",
              "    [theme=dark] .colab-df-convert:hover {\n",
              "      background-color: #434B5C;\n",
              "      box-shadow: 0px 1px 3px 1px rgba(0, 0, 0, 0.15);\n",
              "      filter: drop-shadow(0px 1px 2px rgba(0, 0, 0, 0.3));\n",
              "      fill: #FFFFFF;\n",
              "    }\n",
              "  </style>\n",
              "\n",
              "    <script>\n",
              "      const buttonEl =\n",
              "        document.querySelector('#df-97853019-1b2a-48d5-8bd4-ed6c8d0bc538 button.colab-df-convert');\n",
              "      buttonEl.style.display =\n",
              "        google.colab.kernel.accessAllowed ? 'block' : 'none';\n",
              "\n",
              "      async function convertToInteractive(key) {\n",
              "        const element = document.querySelector('#df-97853019-1b2a-48d5-8bd4-ed6c8d0bc538');\n",
              "        const dataTable =\n",
              "          await google.colab.kernel.invokeFunction('convertToInteractive',\n",
              "                                                    [key], {});\n",
              "        if (!dataTable) return;\n",
              "\n",
              "        const docLinkHtml = 'Like what you see? Visit the ' +\n",
              "          '<a target=\"_blank\" href=https://colab.research.google.com/notebooks/data_table.ipynb>data table notebook</a>'\n",
              "          + ' to learn more about interactive tables.';\n",
              "        element.innerHTML = '';\n",
              "        dataTable['output_type'] = 'display_data';\n",
              "        await google.colab.output.renderOutput(dataTable, element);\n",
              "        const docLink = document.createElement('div');\n",
              "        docLink.innerHTML = docLinkHtml;\n",
              "        element.appendChild(docLink);\n",
              "      }\n",
              "    </script>\n",
              "  </div>\n",
              "\n",
              "\n",
              "<div id=\"df-586f8789-cfb4-4fae-abbf-3af95d066e0a\">\n",
              "  <button class=\"colab-df-quickchart\" onclick=\"quickchart('df-586f8789-cfb4-4fae-abbf-3af95d066e0a')\"\n",
              "            title=\"Suggest charts.\"\n",
              "            style=\"display:none;\">\n",
              "\n",
              "<svg xmlns=\"http://www.w3.org/2000/svg\" height=\"24px\"viewBox=\"0 0 24 24\"\n",
              "     width=\"24px\">\n",
              "    <g>\n",
              "        <path d=\"M19 3H5c-1.1 0-2 .9-2 2v14c0 1.1.9 2 2 2h14c1.1 0 2-.9 2-2V5c0-1.1-.9-2-2-2zM9 17H7v-7h2v7zm4 0h-2V7h2v10zm4 0h-2v-4h2v4z\"/>\n",
              "    </g>\n",
              "</svg>\n",
              "  </button>\n",
              "\n",
              "<style>\n",
              "  .colab-df-quickchart {\n",
              "      --bg-color: #E8F0FE;\n",
              "      --fill-color: #1967D2;\n",
              "      --hover-bg-color: #E2EBFA;\n",
              "      --hover-fill-color: #174EA6;\n",
              "      --disabled-fill-color: #AAA;\n",
              "      --disabled-bg-color: #DDD;\n",
              "  }\n",
              "\n",
              "  [theme=dark] .colab-df-quickchart {\n",
              "      --bg-color: #3B4455;\n",
              "      --fill-color: #D2E3FC;\n",
              "      --hover-bg-color: #434B5C;\n",
              "      --hover-fill-color: #FFFFFF;\n",
              "      --disabled-bg-color: #3B4455;\n",
              "      --disabled-fill-color: #666;\n",
              "  }\n",
              "\n",
              "  .colab-df-quickchart {\n",
              "    background-color: var(--bg-color);\n",
              "    border: none;\n",
              "    border-radius: 50%;\n",
              "    cursor: pointer;\n",
              "    display: none;\n",
              "    fill: var(--fill-color);\n",
              "    height: 32px;\n",
              "    padding: 0;\n",
              "    width: 32px;\n",
              "  }\n",
              "\n",
              "  .colab-df-quickchart:hover {\n",
              "    background-color: var(--hover-bg-color);\n",
              "    box-shadow: 0 1px 2px rgba(60, 64, 67, 0.3), 0 1px 3px 1px rgba(60, 64, 67, 0.15);\n",
              "    fill: var(--button-hover-fill-color);\n",
              "  }\n",
              "\n",
              "  .colab-df-quickchart-complete:disabled,\n",
              "  .colab-df-quickchart-complete:disabled:hover {\n",
              "    background-color: var(--disabled-bg-color);\n",
              "    fill: var(--disabled-fill-color);\n",
              "    box-shadow: none;\n",
              "  }\n",
              "\n",
              "  .colab-df-spinner {\n",
              "    border: 2px solid var(--fill-color);\n",
              "    border-color: transparent;\n",
              "    border-bottom-color: var(--fill-color);\n",
              "    animation:\n",
              "      spin 1s steps(1) infinite;\n",
              "  }\n",
              "\n",
              "  @keyframes spin {\n",
              "    0% {\n",
              "      border-color: transparent;\n",
              "      border-bottom-color: var(--fill-color);\n",
              "      border-left-color: var(--fill-color);\n",
              "    }\n",
              "    20% {\n",
              "      border-color: transparent;\n",
              "      border-left-color: var(--fill-color);\n",
              "      border-top-color: var(--fill-color);\n",
              "    }\n",
              "    30% {\n",
              "      border-color: transparent;\n",
              "      border-left-color: var(--fill-color);\n",
              "      border-top-color: var(--fill-color);\n",
              "      border-right-color: var(--fill-color);\n",
              "    }\n",
              "    40% {\n",
              "      border-color: transparent;\n",
              "      border-right-color: var(--fill-color);\n",
              "      border-top-color: var(--fill-color);\n",
              "    }\n",
              "    60% {\n",
              "      border-color: transparent;\n",
              "      border-right-color: var(--fill-color);\n",
              "    }\n",
              "    80% {\n",
              "      border-color: transparent;\n",
              "      border-right-color: var(--fill-color);\n",
              "      border-bottom-color: var(--fill-color);\n",
              "    }\n",
              "    90% {\n",
              "      border-color: transparent;\n",
              "      border-bottom-color: var(--fill-color);\n",
              "    }\n",
              "  }\n",
              "</style>\n",
              "\n",
              "  <script>\n",
              "    async function quickchart(key) {\n",
              "      const quickchartButtonEl =\n",
              "        document.querySelector('#' + key + ' button');\n",
              "      quickchartButtonEl.disabled = true;  // To prevent multiple clicks.\n",
              "      quickchartButtonEl.classList.add('colab-df-spinner');\n",
              "      try {\n",
              "        const charts = await google.colab.kernel.invokeFunction(\n",
              "            'suggestCharts', [key], {});\n",
              "      } catch (error) {\n",
              "        console.error('Error during call to suggestCharts:', error);\n",
              "      }\n",
              "      quickchartButtonEl.classList.remove('colab-df-spinner');\n",
              "      quickchartButtonEl.classList.add('colab-df-quickchart-complete');\n",
              "    }\n",
              "    (() => {\n",
              "      let quickchartButtonEl =\n",
              "        document.querySelector('#df-586f8789-cfb4-4fae-abbf-3af95d066e0a button');\n",
              "      quickchartButtonEl.style.display =\n",
              "        google.colab.kernel.accessAllowed ? 'block' : 'none';\n",
              "    })();\n",
              "  </script>\n",
              "</div>\n",
              "    </div>\n",
              "  </div>\n"
            ]
          },
          "metadata": {},
          "execution_count": 7
        }
      ]
    },
    {
      "cell_type": "code",
      "source": [
        "n_users = ratingDF.userId.unique().shape[0]\n",
        "n_movies = ratingDF.movieId.unique().shape[0]\n",
        "n_ratings = len(ratingDF)\n",
        "avg_ratings_per_user = n_ratings/n_users\n",
        "print('Number of unique users: ', n_users)\n",
        "print('Number of unique movies: ', n_movies)\n",
        "print('Number of total ratings: ', n_ratings)\n",
        "print('Average number of ratings per user: ', avg_ratings_per_user)"
      ],
      "metadata": {
        "colab": {
          "base_uri": "https://localhost:8080/"
        },
        "id": "Cc7p9SwZNUHG",
        "outputId": "eeef4562-f2f0-4455-9ef2-1e2a14c7c3c2"
      },
      "execution_count": null,
      "outputs": [
        {
          "output_type": "stream",
          "name": "stdout",
          "text": [
            "Number of unique users:  1000\n",
            "Number of unique movies:  1000\n",
            "Number of total ratings:  133172\n",
            "Average number of ratings per user:  133.172\n"
          ]
        }
      ]
    },
    {
      "cell_type": "code",
      "source": [
        "sns.countplot(data = ratingDF, x = 'rating')"
      ],
      "metadata": {
        "colab": {
          "base_uri": "https://localhost:8080/",
          "height": 466
        },
        "id": "rbqN-qT7J-c5",
        "outputId": "757f051f-c8d6-4753-86b1-c82a870f3848"
      },
      "execution_count": null,
      "outputs": [
        {
          "output_type": "execute_result",
          "data": {
            "text/plain": [
              "<Axes: xlabel='rating', ylabel='count'>"
            ]
          },
          "metadata": {},
          "execution_count": 9
        },
        {
          "output_type": "display_data",
          "data": {
            "text/plain": [
              "<Figure size 640x480 with 1 Axes>"
            ],
            "image/png": "[encoded data removed]"
          },
          "metadata": {}
        }
      ]
    },
    {
      "cell_type": "code",
      "source": [
        "ratingDF['rating_binary'] = ratingDF['rating'].apply(lambda x: 0.5 if x <= 3 else 1)"
      ],
      "metadata": {
        "id": "yJ8fy9kLMKtw"
      },
      "execution_count": null,
      "outputs": []
    },
    {
      "cell_type": "code",
      "source": [
        "ratingDF"
      ],
      "metadata": {
        "colab": {
          "base_uri": "https://localhost:8080/",
          "height": 419
        },
        "id": "V3FWs6HlMen3",
        "outputId": "125d2e58-852d-4edf-cd2d-3278c0eb4b22"
      },
      "execution_count": null,
      "outputs": [
        {
          "output_type": "execute_result",
          "data": {
            "text/plain": [
              "         userId  rating  movieId  newMovieId  newUserId  rating_binary\n",
              "0        140736     5.0       28           1          1            1.0\n",
              "1        140736     3.0      175           5          1            0.5\n",
              "2        140736     5.0      191           6          1            1.0\n",
              "3        140736     5.0      312          16          1            1.0\n",
              "4        140736     5.0      483          30          1            1.0\n",
              "...         ...     ...      ...         ...        ...            ...\n",
              "133167  1851206     5.0    14103         765        997            1.0\n",
              "133168  1851206     5.0    16357         913        997            1.0\n",
              "133169  1572399     4.0    12966         699        998            1.0\n",
              "133170  2508177     1.0    14215         772        999            0.5\n",
              "133171   331641     1.0    17405         979       1000            0.5\n",
              "\n",
              "[133172 rows x 6 columns]"
            ],
            "text/html": [
              "\n",
              "  <div id=\"df-855986e1-6a0d-4018-8869-6fbf9fceddb4\" class=\"colab-df-container\">\n",
              "    <div>\n",
              "<style scoped>\n",
              "    .dataframe tbody tr th:only-of-type {\n",
              "        vertical-align: middle;\n",
              "    }\n",
              "\n",
              "    .dataframe tbody tr th {\n",
              "        vertical-align: top;\n",
              "    }\n",
              "\n",
              "    .dataframe thead th {\n",
              "        text-align: right;\n",
              "    }\n",
              "</style>\n",
              "<table border=\"1\" class=\"dataframe\">\n",
              "  <thead>\n",
              "    <tr style=\"text-align: right;\">\n",
              "      <th></th>\n",
              "      <th>userId</th>\n",
              "      <th>rating</th>\n",
              "      <th>movieId</th>\n",
              "      <th>newMovieId</th>\n",
              "      <th>newUserId</th>\n",
              "      <th>rating_binary</th>\n",
              "    </tr>\n",
              "  </thead>\n",
              "  <tbody>\n",
              "    <tr>\n",
              "      <th>0</th>\n",
              "      <td>140736</td>\n",
              "      <td>5.0</td>\n",
              "      <td>28</td>\n",
              "      <td>1</td>\n",
              "      <td>1</td>\n",
              "      <td>1.0</td>\n",
              "    </tr>\n",
              "    <tr>\n",
              "      <th>1</th>\n",
              "      <td>140736</td>\n",
              "      <td>3.0</td>\n",
              "      <td>175</td>\n",
              "      <td>5</td>\n",
              "      <td>1</td>\n",
              "      <td>0.5</td>\n",
              "    </tr>\n",
              "    <tr>\n",
              "      <th>2</th>\n",
              "      <td>140736</td>\n",
              "      <td>5.0</td>\n",
              "      <td>191</td>\n",
              "      <td>6</td>\n",
              "      <td>1</td>\n",
              "      <td>1.0</td>\n",
              "    </tr>\n",
              "    <tr>\n",
              "      <th>3</th>\n",
              "      <td>140736</td>\n",
              "      <td>5.0</td>\n",
              "      <td>312</td>\n",
              "      <td>16</td>\n",
              "      <td>1</td>\n",
              "      <td>1.0</td>\n",
              "    </tr>\n",
              "    <tr>\n",
              "      <th>4</th>\n",
              "      <td>140736</td>\n",
              "      <td>5.0</td>\n",
              "      <td>483</td>\n",
              "      <td>30</td>\n",
              "      <td>1</td>\n",
              "      <td>1.0</td>\n",
              "    </tr>\n",
              "    <tr>\n",
              "      <th>...</th>\n",
              "      <td>...</td>\n",
              "      <td>...</td>\n",
              "      <td>...</td>\n",
              "      <td>...</td>\n",
              "      <td>...</td>\n",
              "      <td>...</td>\n",
              "    </tr>\n",
              "    <tr>\n",
              "      <th>133167</th>\n",
              "      <td>1851206</td>\n",
              "      <td>5.0</td>\n",
              "      <td>14103</td>\n",
              "      <td>765</td>\n",
              "      <td>997</td>\n",
              "      <td>1.0</td>\n",
              "    </tr>\n",
              "    <tr>\n",
              "      <th>133168</th>\n",
              "      <td>1851206</td>\n",
              "      <td>5.0</td>\n",
              "      <td>16357</td>\n",
              "      <td>913</td>\n",
              "      <td>997</td>\n",
              "      <td>1.0</td>\n",
              "    </tr>\n",
              "    <tr>\n",
              "      <th>133169</th>\n",
              "      <td>1572399</td>\n",
              "      <td>4.0</td>\n",
              "      <td>12966</td>\n",
              "      <td>699</td>\n",
              "      <td>998</td>\n",
              "      <td>1.0</td>\n",
              "    </tr>\n",
              "    <tr>\n",
              "      <th>133170</th>\n",
              "      <td>2508177</td>\n",
              "      <td>1.0</td>\n",
              "      <td>14215</td>\n",
              "      <td>772</td>\n",
              "      <td>999</td>\n",
              "      <td>0.5</td>\n",
              "    </tr>\n",
              "    <tr>\n",
              "      <th>133171</th>\n",
              "      <td>331641</td>\n",
              "      <td>1.0</td>\n",
              "      <td>17405</td>\n",
              "      <td>979</td>\n",
              "      <td>1000</td>\n",
              "      <td>0.5</td>\n",
              "    </tr>\n",
              "  </tbody>\n",
              "</table>\n",
              "<p>133172 rows × 6 columns</p>\n",
              "</div>\n",
              "    <div class=\"colab-df-buttons\">\n",
              "\n",
              "  <div class=\"colab-df-container\">\n",
              "    <button class=\"colab-df-convert\" onclick=\"convertToInteractive('df-855986e1-6a0d-4018-8869-6fbf9fceddb4')\"\n",
              "            title=\"Convert this dataframe to an interactive table.\"\n",
              "            style=\"display:none;\">\n",
              "\n",
              "  <svg xmlns=\"http://www.w3.org/2000/svg\" height=\"24px\" viewBox=\"0 -960 960 960\">\n",
              "    <path d=\"M120-120v-720h720v720H120Zm60-500h600v-160H180v160Zm220 220h160v-160H400v160Zm0 220h160v-160H400v160ZM180-400h160v-160H180v160Zm440 0h160v-160H620v160ZM180-180h160v-160H180v160Zm440 0h160v-160H620v160Z\"/>\n",
              "  </svg>\n",
              "    </button>\n",
              "\n",
              "  <style>\n",
              "    .colab-df-container {\n",
              "      display:flex;\n",
              "      gap: 12px;\n",
              "    }\n",
              "\n",
              "    .colab-df-convert {\n",
              "      background-color: #E8F0FE;\n",
              "      border: none;\n",
              "      border-radius: 50%;\n",
              "      cursor: pointer;\n",
              "      display: none;\n",
              "      fill: #1967D2;\n",
              "      height: 32px;\n",
              "      padding: 0 0 0 0;\n",
              "      width: 32px;\n",
              "    }\n",
              "\n",
              "    .colab-df-convert:hover {\n",
              "      background-color: #E2EBFA;\n",
              "      box-shadow: 0px 1px 2px rgba(60, 64, 67, 0.3), 0px 1px 3px 1px rgba(60, 64, 67, 0.15);\n",
              "      fill: #174EA6;\n",
              "    }\n",
              "\n",
              "    .colab-df-buttons div {\n",
              "      margin-bottom: 4px;\n",
              "    }\n",
              "\n",
              "    [theme=dark] .colab-df-convert {\n",
              "      background-color: #3B4455;\n",
              "      fill: #D2E3FC;\n",
              "    }\n",
              "\n",
              "    [theme=dark] .colab-df-convert:hover {\n",
              "      background-color: #434B5C;\n",
              "      box-shadow: 0px 1px 3px 1px rgba(0, 0, 0, 0.15);\n",
              "      filter: drop-shadow(0px 1px 2px rgba(0, 0, 0, 0.3));\n",
              "      fill: #FFFFFF;\n",
              "    }\n",
              "  </style>\n",
              "\n",
              "    <script>\n",
              "      const buttonEl =\n",
              "        document.querySelector('#df-855986e1-6a0d-4018-8869-6fbf9fceddb4 button.colab-df-convert');\n",
              "      buttonEl.style.display =\n",
              "        google.colab.kernel.accessAllowed ? 'block' : 'none';\n",
              "\n",
              "      async function convertToInteractive(key) {\n",
              "        const element = document.querySelector('#df-855986e1-6a0d-4018-8869-6fbf9fceddb4');\n",
              "        const dataTable =\n",
              "          await google.colab.kernel.invokeFunction('convertToInteractive',\n",
              "                                                    [key], {});\n",
              "        if (!dataTable) return;\n",
              "\n",
              "        const docLinkHtml = 'Like what you see? Visit the ' +\n",
              "          '<a target=\"_blank\" href=https://colab.research.google.com/notebooks/data_table.ipynb>data table notebook</a>'\n",
              "          + ' to learn more about interactive tables.';\n",
              "        element.innerHTML = '';\n",
              "        dataTable['output_type'] = 'display_data';\n",
              "        await google.colab.output.renderOutput(dataTable, element);\n",
              "        const docLink = document.createElement('div');\n",
              "        docLink.innerHTML = docLinkHtml;\n",
              "        element.appendChild(docLink);\n",
              "      }\n",
              "    </script>\n",
              "  </div>\n",
              "\n",
              "\n",
              "<div id=\"df-ad2a6422-00b8-4c87-97be-eb91b272206f\">\n",
              "  <button class=\"colab-df-quickchart\" onclick=\"quickchart('df-ad2a6422-00b8-4c87-97be-eb91b272206f')\"\n",
              "            title=\"Suggest charts.\"\n",
              "            style=\"display:none;\">\n",
              "\n",
              "<svg xmlns=\"http://www.w3.org/2000/svg\" height=\"24px\"viewBox=\"0 0 24 24\"\n",
              "     width=\"24px\">\n",
              "    <g>\n",
              "        <path d=\"M19 3H5c-1.1 0-2 .9-2 2v14c0 1.1.9 2 2 2h14c1.1 0 2-.9 2-2V5c0-1.1-.9-2-2-2zM9 17H7v-7h2v7zm4 0h-2V7h2v10zm4 0h-2v-4h2v4z\"/>\n",
              "    </g>\n",
              "</svg>\n",
              "  </button>\n",
              "\n",
              "<style>\n",
              "  .colab-df-quickchart {\n",
              "      --bg-color: #E8F0FE;\n",
              "      --fill-color: #1967D2;\n",
              "      --hover-bg-color: #E2EBFA;\n",
              "      --hover-fill-color: #174EA6;\n",
              "      --disabled-fill-color: #AAA;\n",
              "      --disabled-bg-color: #DDD;\n",
              "  }\n",
              "\n",
              "  [theme=dark] .colab-df-quickchart {\n",
              "      --bg-color: #3B4455;\n",
              "      --fill-color: #D2E3FC;\n",
              "      --hover-bg-color: #434B5C;\n",
              "      --hover-fill-color: #FFFFFF;\n",
              "      --disabled-bg-color: #3B4455;\n",
              "      --disabled-fill-color: #666;\n",
              "  }\n",
              "\n",
              "  .colab-df-quickchart {\n",
              "    background-color: var(--bg-color);\n",
              "    border: none;\n",
              "    border-radius: 50%;\n",
              "    cursor: pointer;\n",
              "    display: none;\n",
              "    fill: var(--fill-color);\n",
              "    height: 32px;\n",
              "    padding: 0;\n",
              "    width: 32px;\n",
              "  }\n",
              "\n",
              "  .colab-df-quickchart:hover {\n",
              "    background-color: var(--hover-bg-color);\n",
              "    box-shadow: 0 1px 2px rgba(60, 64, 67, 0.3), 0 1px 3px 1px rgba(60, 64, 67, 0.15);\n",
              "    fill: var(--button-hover-fill-color);\n",
              "  }\n",
              "\n",
              "  .colab-df-quickchart-complete:disabled,\n",
              "  .colab-df-quickchart-complete:disabled:hover {\n",
              "    background-color: var(--disabled-bg-color);\n",
              "    fill: var(--disabled-fill-color);\n",
              "    box-shadow: none;\n",
              "  }\n",
              "\n",
              "  .colab-df-spinner {\n",
              "    border: 2px solid var(--fill-color);\n",
              "    border-color: transparent;\n",
              "    border-bottom-color: var(--fill-color);\n",
              "    animation:\n",
              "      spin 1s steps(1) infinite;\n",
              "  }\n",
              "\n",
              "  @keyframes spin {\n",
              "    0% {\n",
              "      border-color: transparent;\n",
              "      border-bottom-color: var(--fill-color);\n",
              "      border-left-color: var(--fill-color);\n",
              "    }\n",
              "    20% {\n",
              "      border-color: transparent;\n",
              "      border-left-color: var(--fill-color);\n",
              "      border-top-color: var(--fill-color);\n",
              "    }\n",
              "    30% {\n",
              "      border-color: transparent;\n",
              "      border-left-color: var(--fill-color);\n",
              "      border-top-color: var(--fill-color);\n",
              "      border-right-color: var(--fill-color);\n",
              "    }\n",
              "    40% {\n",
              "      border-color: transparent;\n",
              "      border-right-color: var(--fill-color);\n",
              "      border-top-color: var(--fill-color);\n",
              "    }\n",
              "    60% {\n",
              "      border-color: transparent;\n",
              "      border-right-color: var(--fill-color);\n",
              "    }\n",
              "    80% {\n",
              "      border-color: transparent;\n",
              "      border-right-color: var(--fill-color);\n",
              "      border-bottom-color: var(--fill-color);\n",
              "    }\n",
              "    90% {\n",
              "      border-color: transparent;\n",
              "      border-bottom-color: var(--fill-color);\n",
              "    }\n",
              "  }\n",
              "</style>\n",
              "\n",
              "  <script>\n",
              "    async function quickchart(key) {\n",
              "      const quickchartButtonEl =\n",
              "        document.querySelector('#' + key + ' button');\n",
              "      quickchartButtonEl.disabled = true;  // To prevent multiple clicks.\n",
              "      quickchartButtonEl.classList.add('colab-df-spinner');\n",
              "      try {\n",
              "        const charts = await google.colab.kernel.invokeFunction(\n",
              "            'suggestCharts', [key], {});\n",
              "      } catch (error) {\n",
              "        console.error('Error during call to suggestCharts:', error);\n",
              "      }\n",
              "      quickchartButtonEl.classList.remove('colab-df-spinner');\n",
              "      quickchartButtonEl.classList.add('colab-df-quickchart-complete');\n",
              "    }\n",
              "    (() => {\n",
              "      let quickchartButtonEl =\n",
              "        document.querySelector('#df-ad2a6422-00b8-4c87-97be-eb91b272206f button');\n",
              "      quickchartButtonEl.style.display =\n",
              "        google.colab.kernel.accessAllowed ? 'block' : 'none';\n",
              "    })();\n",
              "  </script>\n",
              "</div>\n",
              "    </div>\n",
              "  </div>\n"
            ]
          },
          "metadata": {},
          "execution_count": 11
        }
      ]
    },
    {
      "cell_type": "code",
      "source": [
        "sns.countplot(data = ratingDF, x = 'rating_binary')"
      ],
      "metadata": {
        "colab": {
          "base_uri": "https://localhost:8080/",
          "height": 467
        },
        "id": "sI91CLsXNKrT",
        "outputId": "71d3444b-960b-4139-c952-cfd439c56684"
      },
      "execution_count": null,
      "outputs": [
        {
          "output_type": "execute_result",
          "data": {
            "text/plain": [
              "<Axes: xlabel='rating_binary', ylabel='count'>"
            ]
          },
          "metadata": {},
          "execution_count": 13
        },
        {
          "output_type": "display_data",
          "data": {
            "text/plain": [
              "<Figure size 640x480 with 1 Axes>"
            ],
            "image/png": "[encoded data removed]"
          },
          "metadata": {}
        }
      ]
    },
    {
      "cell_type": "code",
      "source": [
        "X_train, X_test = train_test_split(ratingDF, test_size = 0.10, random_state = 42)"
      ],
      "metadata": {
        "id": "fxWWmb2DKjT2"
      },
      "execution_count": null,
      "outputs": []
    },
    {
      "cell_type": "code",
      "source": [
        "#X_train | X_val | X_test"
      ],
      "metadata": {
        "id": "XoSSjYj4LQet"
      },
      "execution_count": null,
      "outputs": []
    },
    {
      "cell_type": "code",
      "source": [
        "print(len(X_train), len(X_val), len(X_test))"
      ],
      "metadata": {
        "colab": {
          "base_uri": "https://localhost:8080/"
        },
        "id": "5vpAm6FtLTpN",
        "outputId": "bfddba0f-0693-4df2-9d33-416c1ea59500"
      },
      "execution_count": null,
      "outputs": [
        {
          "output_type": "stream",
          "name": "stdout",
          "text": [
            "119854 6659 13318\n"
          ]
        }
      ]
    },
    {
      "cell_type": "code",
      "source": [
        "#M X N matrix where M is users and N is movie. And the values in the matrix are ratings"
      ],
      "metadata": {
        "id": "uuSHV2KPLe_W"
      },
      "execution_count": null,
      "outputs": []
    },
    {
      "cell_type": "code",
      "source": [
        "X_train['rating_binary'].value_counts()"
      ],
      "metadata": {
        "colab": {
          "base_uri": "https://localhost:8080/"
        },
        "id": "mpqCkS00L1AC",
        "outputId": "addc4c64-eb8c-47fb-ee0a-623b1b9dc034"
      },
      "execution_count": null,
      "outputs": [
        {
          "output_type": "execute_result",
          "data": {
            "text/plain": [
              "1.0    70678\n",
              "0.5    49176\n",
              "Name: rating_binary, dtype: int64"
            ]
          },
          "metadata": {},
          "execution_count": 56
        }
      ]
    },
    {
      "cell_type": "code",
      "source": [
        "ratings_train = np.zeros((n_users, n_movies))\n",
        "for row in X_train.itertuples():\n",
        "    ratings_train[row[5]-1, row[4]-1] = row[6]"
      ],
      "metadata": {
        "id": "lp_E7eBzLkT0"
      },
      "execution_count": null,
      "outputs": []
    },
    {
      "cell_type": "code",
      "source": [
        "ratings_train"
      ],
      "metadata": {
        "colab": {
          "base_uri": "https://localhost:8080/"
        },
        "id": "SokXefbML8ST",
        "outputId": "5acf9645-933e-4aed-f980-b75a1fe5cb91"
      },
      "execution_count": null,
      "outputs": [
        {
          "output_type": "execute_result",
          "data": {
            "text/plain": [
              "array([[0. , 0. , 0. , ..., 0. , 0. , 0. ],\n",
              "       [0.5, 1. , 0. , ..., 0. , 1. , 1. ],\n",
              "       [0.5, 1. , 0. , ..., 0.5, 0. , 1. ],\n",
              "       ...,\n",
              "       [0. , 0. , 0. , ..., 0. , 0. , 0. ],\n",
              "       [0. , 0. , 0. , ..., 0. , 0. , 0. ],\n",
              "       [0. , 0. , 0. , ..., 0. , 0. , 0. ]])"
            ]
          },
          "metadata": {},
          "execution_count": 58
        }
      ]
    },
    {
      "cell_type": "code",
      "source": [
        "ratings_train.shape"
      ],
      "metadata": {
        "colab": {
          "base_uri": "https://localhost:8080/"
        },
        "id": "kSaPEgF-NycJ",
        "outputId": "956f8662-890b-4a34-e896-56eed721e9ff"
      },
      "execution_count": null,
      "outputs": [
        {
          "output_type": "execute_result",
          "data": {
            "text/plain": [
              "(1000, 1000)"
            ]
          },
          "metadata": {},
          "execution_count": 59
        }
      ]
    },
    {
      "cell_type": "code",
      "source": [
        "sparsity = float(len(ratings_train.nonzero()[0]))\n",
        "sparsity /= (ratings_train.shape[0] * ratings_train.shape[1])\n",
        "sparsity *= 100\n",
        "print('Sparsity: {:4.2f}%'.format(sparsity))"
      ],
      "metadata": {
        "colab": {
          "base_uri": "https://localhost:8080/"
        },
        "id": "WzC3uNWMN9wB",
        "outputId": "eae61d66-c0c0-406f-bdc4-5502bbaf66d0"
      },
      "execution_count": null,
      "outputs": [
        {
          "output_type": "stream",
          "name": "stdout",
          "text": [
            "Sparsity: 11.99%\n"
          ]
        }
      ]
    },
    {
      "cell_type": "code",
      "source": [
        "ratings_validation = np.zeros((n_users, n_movies))\n",
        "for row in X_test.itertuples():\n",
        "    ratings_validation[row[5]-1, row[4]-1] = row[6]"
      ],
      "metadata": {
        "id": "Hxj9rP0xN_Id"
      },
      "execution_count": null,
      "outputs": []
    },
    {
      "cell_type": "code",
      "source": [
        "ratings_validation"
      ],
      "metadata": {
        "colab": {
          "base_uri": "https://localhost:8080/"
        },
        "id": "Npn0OLmaNsH3",
        "outputId": "b4a6dc1a-09c7-4436-cf58-e19fca2dcd34"
      },
      "execution_count": null,
      "outputs": [
        {
          "output_type": "execute_result",
          "data": {
            "text/plain": [
              "array([[1. , 0. , 0. , ..., 0. , 0. , 0. ],\n",
              "       [0. , 0. , 0.5, ..., 0. , 0. , 0. ],\n",
              "       [0. , 0. , 0. , ..., 0. , 0. , 0. ],\n",
              "       ...,\n",
              "       [0. , 0. , 0. , ..., 0. , 0. , 0. ],\n",
              "       [0. , 0. , 0. , ..., 0. , 0. , 0. ],\n",
              "       [0. , 0. , 0. , ..., 0. , 0. , 0. ]])"
            ]
          },
          "metadata": {},
          "execution_count": 62
        }
      ]
    },
    {
      "cell_type": "code",
      "source": [
        "sparsity = float(len(ratings_validation.nonzero()[0]))\n",
        "sparsity /= (ratings_validation.shape[0] * ratings_validation.shape[1])\n",
        "sparsity *= 100\n",
        "print('Sparsity: {:4.2f}%'.format(sparsity))"
      ],
      "metadata": {
        "colab": {
          "base_uri": "https://localhost:8080/"
        },
        "id": "ulYmt-_EOHIm",
        "outputId": "359b2fc2-0b4d-4000-f3b1-c785933d5b80"
      },
      "execution_count": null,
      "outputs": [
        {
          "output_type": "stream",
          "name": "stdout",
          "text": [
            "Sparsity: 1.33%\n"
          ]
        }
      ]
    },
    {
      "cell_type": "code",
      "source": [
        "del df, df2, df3\n",
        "gc.collect()"
      ],
      "metadata": {
        "colab": {
          "base_uri": "https://localhost:8080/",
          "height": 191
        },
        "id": "x1nEXPhPOIzg",
        "outputId": "d0c9afb1-da08-4a4e-d7ad-25a949edfacc"
      },
      "execution_count": null,
      "outputs": [
        {
          "output_type": "error",
          "ename": "NameError",
          "evalue": "ignored",
          "traceback": [
            "\u001b[0;31m---------------------------------------------------------------------------\u001b[0m",
            "\u001b[0;31mNameError\u001b[0m                                 Traceback (most recent call last)",
            "\u001b[0;32m<ipython-input-64-c42524999a95>\u001b[0m in \u001b[0;36m<cell line: 1>\u001b[0;34m()\u001b[0m\n\u001b[0;32m----> 1\u001b[0;31m \u001b[0;32mdel\u001b[0m \u001b[0mdf\u001b[0m\u001b[0;34m,\u001b[0m \u001b[0mdf2\u001b[0m\u001b[0;34m,\u001b[0m \u001b[0mdf3\u001b[0m\u001b[0;34m\u001b[0m\u001b[0;34m\u001b[0m\u001b[0m\n\u001b[0m\u001b[1;32m      2\u001b[0m \u001b[0mgc\u001b[0m\u001b[0;34m.\u001b[0m\u001b[0mcollect\u001b[0m\u001b[0;34m(\u001b[0m\u001b[0;34m)\u001b[0m\u001b[0;34m\u001b[0m\u001b[0;34m\u001b[0m\u001b[0m\n",
            "\u001b[0;31mNameError\u001b[0m: name 'df' is not defined"
          ]
        }
      ]
    },
    {
      "cell_type": "code",
      "source": [
        "class RBM():\n",
        "\n",
        "  def __init__(self, input_size, output_size, learning_rate, epochs, batch_size):\n",
        "\n",
        "    super().__init__()\n",
        "    self.input_size = input_size   #D\n",
        "    self.output_size = output_size #M\n",
        "    self.batch_size = batch_size\n",
        "    self.epochs = epochs\n",
        "    self.learning_rate = learning_rate\n",
        "    self.errors = []\n",
        "\n",
        "    self.weights = tf.Variable(tf.random.normal(shape = (input_size, output_size)) * 2 / np.sqrt(output_size))\n",
        "    self.hidden_bias = tf.Variable(np.zeros([output_size], dtype=np.float32))\n",
        "    self.visible_bias = tf.Variable(np.zeros([input_size], dtype=np.float32))\n",
        "\n",
        "  def prob_hidden_given_visible(self, v_given, weights, hidden_bias):\n",
        "\n",
        "    p_of_h_given_v = tf.nn.sigmoid(tf.linalg.matmul(v_given, weights) + hidden_bias)\n",
        "\n",
        "    bernoulli_distribution = tfp.distributions.Bernoulli(probs = p_of_h_given_v)\n",
        "    hidden_sample = bernoulli_distribution.sample()\n",
        "\n",
        "    hidden_sample = tf.cast(hidden_sample, dtype=tf.float32)\n",
        "\n",
        "    return hidden_sample\n",
        "\n",
        "  def prob_visible_given_hidden(self, h_given, weights, visible_bias):\n",
        "\n",
        "    p_of_v_given_h = tf.nn.sigmoid(tf.linalg.matmul(h_given, tf.transpose(weights)) + visible_bias)\n",
        "\n",
        "    bernoulli_distribution = tfp.distributions.Bernoulli(probs = p_of_v_given_h)\n",
        "    visible_sample = bernoulli_distribution.sample()\n",
        "\n",
        "    return visible_sample\n",
        "\n",
        "  def free_energy(self, v_given):  #loss function\n",
        "\n",
        "    visible_bias_reshaped = tf.reshape(self.visible_bias, (self.input_size, 1))\n",
        "\n",
        "    first_term = -tf.linalg.matmul(v_given, visible_bias_reshaped)\n",
        "    first_term = tf.reshape(first_term, (-1,))\n",
        "\n",
        "    second_term = -tf.reduce_sum(\n",
        "\n",
        "        #tf.log(1 + tf.exp(tf.linalg.matmul(v_given, self.weights), self.hidden_bias))\n",
        "        tf.nn.softplus(tf.linalg.matmul(v_given, self.weights) + self.hidden_bias), axis = 1\n",
        "\n",
        "        )\n",
        "\n",
        "    return first_term + second_term\n",
        "\n",
        "  def cost(self, X_in):\n",
        "\n",
        "    forward_hidden = tf.nn.sigmoid(tf.linalg.matmul(X_in, self.weights) + self.hidden_bias)\n",
        "    logits = tf.linalg.matmul(forward_hidden, tf.transpose(self.weights) + self.visible_bias)\n",
        "    op_cost = tf.math.reduce_mean(tf.nn.sigmoid_cross_entropy_with_logits(labels = X_in, logits = logits))\n",
        "\n",
        "    return op_cost\n",
        "\n",
        "  def fit(self, X_in):\n",
        "\n",
        "    #v0 = self.X_in batch data\n",
        "\n",
        "    for epoch in range(self.epochs):\n",
        "\n",
        "      for start, end in zip(range(0, len(X_in) + self.batch_size, self.batch_size), range(self.batch_size, len(X_in) + self.batch_size, self.batch_size)):\n",
        "\n",
        "        v0 = X_in[start : end]\n",
        "\n",
        "        h1 = self.prob_hidden_given_visible(v0, self.weights, self.hidden_bias)\n",
        "\n",
        "        v1 = self.prob_visible_given_hidden(h1, self.weights, self.visible_bias)\n",
        "\n",
        "        v1 = tf.cast(v1, dtype = tf.float32)\n",
        "\n",
        "        with tf.GradientTape() as tape:\n",
        "\n",
        "          objective = tf.math.reduce_mean(self.free_energy(v0)) - tf.math.reduce_mean(self.free_energy(v1)) #free energy loss F(v) - F(v')\n",
        "\n",
        "          #rbm_gradients = tape.gradient(objective, RBM.trainable_variables)\n",
        "          #tf.keras.optimizers.Adam(learning_rate = self.learning_rate).apply_gradients(zip(rbm_gradients, RBM.trainable_variables))\n",
        "\n",
        "          tf.keras.optimizers.Adam(learning_rate = self.learning_rate).minimize(objective, var_list = [self.weights, self.hidden_bias, self.visible_bias], tape = tape)\n",
        "\n",
        "      #c = self.cost(v0)\n",
        "\n",
        "      c = tf.math.reduce_mean(tf.square(v0 - v1))\n",
        "\n",
        "      self.errors.append(c)\n",
        "\n",
        "      print('epoch: ', epoch + 1, 'reconstruction error', np.asarray(c)) #reconstruction error -> mean squared error\n",
        "\n",
        "  def show_fig(self):\n",
        "\n",
        "    fig = plt.subplots(figsize = (8, 6))\n",
        "    plt.plot(self.errors)\n",
        "    plt.ylabel('Reconstruction Error (MSE)')\n",
        "    plt.xlabel('Epoch')\n",
        "    plt.show()\n",
        "\n",
        "  def rbm_output(self, X_in):\n",
        "\n",
        "    out = tf.nn.sigmoid(tf.matmul(X_in, self.weights) + self.hidden_bias)\n",
        "    hiddenGen = self.prob_hidden_given_visible(X_in, self.weights, self.hidden_bias)\n",
        "    visibleGen = self.prob_visible_given_hidden(hiddenGen, self.weights, self.visible_bias)\n",
        "\n",
        "    return out, visibleGen, hiddenGen"
      ],
      "metadata": {
        "id": "g3T8j4bqOO_4"
      },
      "execution_count": null,
      "outputs": []
    },
    {
      "cell_type": "code",
      "source": [
        "inputX = ratings_train\n",
        "inputX = inputX.astype(dtype=np.float32)\n",
        "rbm = RBM(1000, 1000, 0.3, 50, 200)"
      ],
      "metadata": {
        "id": "mtyJlipwOaS4"
      },
      "execution_count": null,
      "outputs": []
    },
    {
      "cell_type": "code",
      "source": [
        "err = rbm.fit(inputX)\n",
        "outputX, reconstructedX, hiddenX = rbm.rbm_output(inputX)"
      ],
      "metadata": {
        "colab": {
          "base_uri": "https://localhost:8080/"
        },
        "id": "eVHRcqvaOiUx",
        "outputId": "6d5bb350-f686-4a49-a63a-9664673451fc"
      },
      "execution_count": null,
      "outputs": [
        {
          "output_type": "stream",
          "name": "stdout",
          "text": [
            "epoch:  1 reconstruction error 0.09801375\n",
            "epoch:  2 reconstruction error 0.08384375\n",
            "epoch:  3 reconstruction error 0.05660375\n",
            "epoch:  4 reconstruction error 0.03829375\n",
            "epoch:  5 reconstruction error 0.03013375\n",
            "epoch:  6 reconstruction error 0.02114375\n",
            "epoch:  7 reconstruction error 0.01766875\n",
            "epoch:  8 reconstruction error 0.01241875\n",
            "epoch:  9 reconstruction error 0.01098875\n",
            "epoch:  10 reconstruction error 0.00926875\n",
            "epoch:  11 reconstruction error 0.00843875\n",
            "epoch:  12 reconstruction error 0.00799375\n",
            "epoch:  13 reconstruction error 0.00734375\n",
            "epoch:  14 reconstruction error 0.00670375\n",
            "epoch:  15 reconstruction error 0.00672375\n",
            "epoch:  16 reconstruction error 0.00562875\n",
            "epoch:  17 reconstruction error 0.00563375\n",
            "epoch:  18 reconstruction error 0.00517375\n",
            "epoch:  19 reconstruction error 0.00475875\n",
            "epoch:  20 reconstruction error 0.00515375\n",
            "epoch:  21 reconstruction error 0.00450375\n",
            "epoch:  22 reconstruction error 0.00479875\n",
            "epoch:  23 reconstruction error 0.00438375\n",
            "epoch:  24 reconstruction error 0.00403375\n",
            "epoch:  25 reconstruction error 0.00414375\n",
            "epoch:  26 reconstruction error 0.00371875\n",
            "epoch:  27 reconstruction error 0.00419375\n",
            "epoch:  28 reconstruction error 0.00390375\n",
            "epoch:  29 reconstruction error 0.00402875\n",
            "epoch:  30 reconstruction error 0.00379375\n",
            "epoch:  31 reconstruction error 0.00366875\n",
            "epoch:  32 reconstruction error 0.00361375\n",
            "epoch:  33 reconstruction error 0.00383875\n",
            "epoch:  34 reconstruction error 0.00355875\n",
            "epoch:  35 reconstruction error 0.00356375\n",
            "epoch:  36 reconstruction error 0.00321375\n",
            "epoch:  37 reconstruction error 0.00340875\n",
            "epoch:  38 reconstruction error 0.00342375\n",
            "epoch:  39 reconstruction error 0.00316875\n",
            "epoch:  40 reconstruction error 0.00306875\n",
            "epoch:  41 reconstruction error 0.00304375\n",
            "epoch:  42 reconstruction error 0.00311875\n",
            "epoch:  43 reconstruction error 0.00304375\n",
            "epoch:  44 reconstruction error 0.00306375\n",
            "epoch:  45 reconstruction error 0.00300375\n",
            "epoch:  46 reconstruction error 0.00284875\n",
            "epoch:  47 reconstruction error 0.00281875\n",
            "epoch:  48 reconstruction error 0.00268875\n",
            "epoch:  49 reconstruction error 0.00268875\n",
            "epoch:  50 reconstruction error 0.00271875\n"
          ]
        }
      ]
    },
    {
      "cell_type": "code",
      "source": [
        "rbm.show_fig()"
      ],
      "metadata": {
        "colab": {
          "base_uri": "https://localhost:8080/",
          "height": 542
        },
        "id": "VbnYwyu5Ol2l",
        "outputId": "eb5a5622-9c1f-4a96-ae5f-f26f7edc61d6"
      },
      "execution_count": null,
      "outputs": [
        {
          "output_type": "display_data",
          "data": {
            "text/plain": [
              "<Figure size 800x600 with 1 Axes>"
            ],
            "image/png": "[encoded data removed]"
          },
          "metadata": {}
        }
      ]
    },
    {
      "cell_type": "code",
      "source": [
        "inputValidation = ratings_validation\n",
        "inputValidation = inputValidation.astype(np.float32)\n",
        "finalOutput_validation, reconstructedOutput_validation, _ = rbm.rbm_output(inputValidation)"
      ],
      "metadata": {
        "id": "nT6silmDPxpW"
      },
      "execution_count": null,
      "outputs": []
    },
    {
      "cell_type": "code",
      "source": [
        "inputValidation"
      ],
      "metadata": {
        "colab": {
          "base_uri": "https://localhost:8080/"
        },
        "id": "tX4eOyElP0ee",
        "outputId": "9c193ca6-7932-4369-ec6b-88f036001cd5"
      },
      "execution_count": null,
      "outputs": [
        {
          "output_type": "execute_result",
          "data": {
            "text/plain": [
              "array([[1. , 0. , 0. , ..., 0. , 0. , 0. ],\n",
              "       [0. , 0. , 0.5, ..., 0. , 0. , 0. ],\n",
              "       [0. , 0. , 0. , ..., 0. , 0. , 0. ],\n",
              "       ...,\n",
              "       [0. , 0. , 0. , ..., 0. , 0. , 0. ],\n",
              "       [0. , 0. , 0. , ..., 0. , 0. , 0. ],\n",
              "       [0. , 0. , 0. , ..., 0. , 0. , 0. ]], dtype=float32)"
            ]
          },
          "metadata": {},
          "execution_count": 70
        }
      ]
    },
    {
      "cell_type": "code",
      "source": [
        "finalOutput_validation"
      ],
      "metadata": {
        "colab": {
          "base_uri": "https://localhost:8080/"
        },
        "id": "Q20WxZwpP2i4",
        "outputId": "a4d5eda3-9324-4807-fd83-c251ac65d17f"
      },
      "execution_count": null,
      "outputs": [
        {
          "output_type": "execute_result",
          "data": {
            "text/plain": [
              "<tf.Tensor: shape=(1000, 1000), dtype=float32, numpy=\n",
              "array([[1.9962419e-20, 1.4613972e-18, 3.7364915e-20, ..., 7.7708248e-16,\n",
              "        3.7210076e-13, 1.4270857e-12],\n",
              "       [2.8067412e-08, 3.6666773e-15, 4.7464222e-17, ..., 1.1766581e-14,\n",
              "        4.4316520e-13, 4.0513217e-13],\n",
              "       [1.2120189e-15, 8.6177362e-14, 8.0859490e-19, ..., 1.8260099e-18,\n",
              "        6.2449839e-13, 1.3349761e-08],\n",
              "       ...,\n",
              "       [5.1362912e-07, 4.5801844e-05, 8.6978680e-06, ..., 9.2580160e-07,\n",
              "        3.5191690e-05, 9.9884364e-06],\n",
              "       [5.1362912e-07, 4.5801844e-05, 8.6978680e-06, ..., 9.2580160e-07,\n",
              "        3.5191690e-05, 9.9884364e-06],\n",
              "       [2.0099594e-07, 3.1640859e-05, 1.8939110e-06, ..., 5.9079349e-07,\n",
              "        3.3572676e-05, 3.7629090e-06]], dtype=float32)>"
            ]
          },
          "metadata": {},
          "execution_count": 71
        }
      ]
    },
    {
      "cell_type": "code",
      "source": [
        "reconstructedOutput_validation"
      ],
      "metadata": {
        "colab": {
          "base_uri": "https://localhost:8080/"
        },
        "id": "JFBOHqJuQG_u",
        "outputId": "ee6e2402-5880-4759-bde2-d94b3d3a1dd1"
      },
      "execution_count": null,
      "outputs": [
        {
          "output_type": "execute_result",
          "data": {
            "text/plain": [
              "<tf.Tensor: shape=(1000, 1000), dtype=int32, numpy=\n",
              "array([[0, 0, 0, ..., 0, 0, 0],\n",
              "       [0, 0, 0, ..., 0, 0, 0],\n",
              "       [0, 0, 0, ..., 0, 0, 0],\n",
              "       ...,\n",
              "       [0, 0, 0, ..., 0, 0, 0],\n",
              "       [0, 0, 0, ..., 0, 0, 0],\n",
              "       [0, 0, 0, ..., 0, 0, 0]], dtype=int32)>"
            ]
          },
          "metadata": {},
          "execution_count": 72
        }
      ]
    },
    {
      "cell_type": "code",
      "source": [
        "predictionsArray = reconstructedOutput_validation\n",
        "predictionsArray = tf.reshape(predictionsArray, shape = [-1])\n",
        "non_zero_ratings = ratings_validation.nonzero()\n",
        "non_zero_ratings = np.concatenate([non_zero_ratings[0], non_zero_ratings[1]])\n",
        "ratings_validation = tf.reshape(ratings_validation, shape = [-1])"
      ],
      "metadata": {
        "id": "sNE95HXJQKop"
      },
      "execution_count": null,
      "outputs": []
    },
    {
      "cell_type": "code",
      "source": [
        "non_zero_ratings"
      ],
      "metadata": {
        "colab": {
          "base_uri": "https://localhost:8080/"
        },
        "id": "s9ut7hbpbAgL",
        "outputId": "9a1b19ff-abd2-4723-950c-225d56c150d5"
      },
      "execution_count": null,
      "outputs": [
        {
          "output_type": "execute_result",
          "data": {
            "text/plain": [
              "array([  0,   0,   0, ..., 832, 858, 978])"
            ]
          },
          "metadata": {},
          "execution_count": 82
        }
      ]
    },
    {
      "cell_type": "code",
      "source": [
        "pred_validation = []\n",
        "\n",
        "for element in non_zero_ratings:\n",
        "\n",
        "  pred_validation.append(predictionsArray[element])"
      ],
      "metadata": {
        "id": "xbLleupsQL4w"
      },
      "execution_count": null,
      "outputs": []
    },
    {
      "cell_type": "code",
      "source": [
        "pred_validation = np.array(pred_validation)\n",
        "pred_validation"
      ],
      "metadata": {
        "colab": {
          "base_uri": "https://localhost:8080/"
        },
        "id": "kvKfGDZ2QPG-",
        "outputId": "767fdf6a-53a2-41dd-df92-d7c0f1901171"
      },
      "execution_count": null,
      "outputs": [
        {
          "output_type": "execute_result",
          "data": {
            "text/plain": [
              "array([0, 0, 0, ..., 0, 1, 0], dtype=int32)"
            ]
          },
          "metadata": {},
          "execution_count": 75
        }
      ]
    },
    {
      "cell_type": "code",
      "source": [
        "actual_validation = []\n",
        "\n",
        "for element in non_zero_ratings:\n",
        "\n",
        "  actual_validation.append(ratings_validation[element])"
      ],
      "metadata": {
        "id": "43-HxeN9QQly"
      },
      "execution_count": null,
      "outputs": []
    },
    {
      "cell_type": "code",
      "source": [
        "actual_validation = np.array(actual_validation)\n",
        "actual_validation"
      ],
      "metadata": {
        "colab": {
          "base_uri": "https://localhost:8080/"
        },
        "id": "P92raujNQSll",
        "outputId": "d62acafa-7001-4e5e-892c-ac798384c796"
      },
      "execution_count": null,
      "outputs": [
        {
          "output_type": "execute_result",
          "data": {
            "text/plain": [
              "array([1., 1., 1., ..., 0., 0., 0.])"
            ]
          },
          "metadata": {},
          "execution_count": 77
        }
      ]
    },
    {
      "cell_type": "code",
      "source": [
        "pred_validation.shape"
      ],
      "metadata": {
        "colab": {
          "base_uri": "https://localhost:8080/"
        },
        "id": "p0qpwq_QQUlA",
        "outputId": "cbfb2c8b-a8e9-407b-ebf0-1ec4778db3a8"
      },
      "execution_count": null,
      "outputs": [
        {
          "output_type": "execute_result",
          "data": {
            "text/plain": [
              "(26636,)"
            ]
          },
          "metadata": {},
          "execution_count": 78
        }
      ]
    },
    {
      "cell_type": "code",
      "source": [
        "actual_validation.shape"
      ],
      "metadata": {
        "colab": {
          "base_uri": "https://localhost:8080/"
        },
        "id": "sGDw1GtSQWLY",
        "outputId": "fd91f964-5c78-4314-9794-5f41dd31a8d9"
      },
      "execution_count": null,
      "outputs": [
        {
          "output_type": "execute_result",
          "data": {
            "text/plain": [
              "(26636,)"
            ]
          },
          "metadata": {},
          "execution_count": 79
        }
      ]
    },
    {
      "cell_type": "code",
      "source": [
        "from sklearn.metrics import mean_squared_error\n",
        "\n",
        "rbm_prediction = mean_squared_error(pred_validation, actual_validation)\n",
        "print('Mean squared error using RBM prediction:', rbm_prediction)"
      ],
      "metadata": {
        "colab": {
          "base_uri": "https://localhost:8080/"
        },
        "id": "WiQGa1QXQYAI",
        "outputId": "545238f5-c0e5-47a8-b560-a7f1b3d62581"
      },
      "execution_count": null,
      "outputs": [
        {
          "output_type": "stream",
          "name": "stdout",
          "text": [
            "Mean squared error using RBM prediction: 0.12202470340892026\n"
          ]
        }
      ]
    },
    {
      "cell_type": "code",
      "source": [
        "print('Root mean squared error using RBM prediction:', np.sqrt(rbm_prediction))"
      ],
      "metadata": {
        "colab": {
          "base_uri": "https://localhost:8080/"
        },
        "id": "s9Ea1hP0QaM1",
        "outputId": "b5884ee8-fe06-4efd-8c17-4e96dda9dabe"
      },
      "execution_count": null,
      "outputs": [
        {
          "output_type": "stream",
          "name": "stdout",
          "text": [
            "Root mean squared error using RBM prediction: 0.34932034496851205\n"
          ]
        }
      ]
    },
    {
      "cell_type": "code",
      "source": [
        "reconstructedX = np.array(reconstructedX)"
      ],
      "metadata": {
        "id": "Df_FXu-tc6Aj"
      },
      "execution_count": null,
      "outputs": []
    },
    {
      "cell_type": "code",
      "source": [
        "reconstructedX[0]"
      ],
      "metadata": {
        "colab": {
          "base_uri": "https://localhost:8080/"
        },
        "id": "68Yb8IlvdFQQ",
        "outputId": "a3741db7-01bc-4f89-b3b0-7069bcd7ef8d"
      },
      "execution_count": null,
      "outputs": [
        {
          "output_type": "execute_result",
          "data": {
            "text/plain": [
              "array([0, 0, 0, 0, 0, 1, 0, 0, 0, 0, 0, 1, 0, 1, 0, 1, 0, 0, 0, 0, 0, 0,\n",
              "       1, 1, 0, 0, 0, 0, 0, 0, 1, 0, 0, 1, 0, 0, 0, 0, 0, 0, 0, 1, 0, 0,\n",
              "       0, 0, 0, 0, 1, 0, 0, 0, 0, 0, 0, 0, 0, 1, 0, 1, 1, 0, 0, 0, 0, 1,\n",
              "       1, 0, 0, 1, 0, 0, 0, 0, 0, 0, 0, 0, 0, 0, 0, 0, 0, 0, 0, 0, 0, 1,\n",
              "       1, 0, 0, 0, 0, 1, 0, 0, 0, 0, 0, 0, 0, 0, 0, 0, 0, 0, 0, 0, 0, 0,\n",
              "       1, 1, 0, 0, 0, 0, 0, 0, 0, 0, 1, 0, 1, 0, 0, 0, 0, 0, 0, 1, 0, 0,\n",
              "       0, 0, 0, 0, 0, 0, 0, 0, 0, 1, 0, 0, 0, 0, 0, 0, 0, 0, 1, 0, 1, 0,\n",
              "       0, 0, 0, 0, 0, 0, 0, 1, 1, 0, 0, 0, 0, 0, 0, 0, 1, 0, 0, 0, 0, 0,\n",
              "       0, 0, 0, 1, 0, 0, 0, 0, 0, 1, 0, 1, 0, 0, 0, 0, 0, 0, 0, 0, 0, 0,\n",
              "       0, 1, 1, 0, 0, 0, 0, 0, 0, 1, 1, 0, 0, 0, 0, 0, 0, 0, 0, 0, 1, 0,\n",
              "       1, 0, 0, 0, 0, 0, 0, 1, 1, 0, 0, 0, 0, 0, 0, 1, 1, 0, 0, 0, 0, 0,\n",
              "       1, 0, 0, 0, 0, 0, 0, 0, 0, 0, 1, 0, 0, 0, 0, 0, 0, 0, 0, 0, 0, 0,\n",
              "       0, 0, 0, 0, 0, 1, 0, 0, 0, 0, 0, 0, 1, 0, 0, 0, 0, 0, 1, 0, 0, 1,\n",
              "       0, 1, 0, 0, 0, 0, 0, 0, 1, 0, 0, 0, 0, 0, 0, 0, 0, 1, 0, 1, 0, 0,\n",
              "       0, 1, 0, 0, 0, 0, 0, 0, 0, 0, 0, 0, 0, 0, 0, 0, 0, 0, 0, 0, 0, 0,\n",
              "       0, 1, 0, 1, 0, 0, 0, 0, 0, 0, 0, 0, 1, 0, 0, 1, 0, 1, 1, 0, 1, 0,\n",
              "       1, 0, 0, 0, 0, 1, 0, 0, 0, 0, 1, 0, 0, 1, 0, 0, 0, 0, 0, 0, 1, 1,\n",
              "       0, 1, 0, 1, 0, 0, 0, 1, 0, 0, 1, 0, 0, 0, 0, 0, 1, 0, 0, 1, 0, 0,\n",
              "       0, 1, 0, 0, 0, 0, 1, 0, 0, 0, 1, 0, 1, 0, 0, 0, 0, 0, 0, 0, 0, 0,\n",
              "       0, 0, 0, 0, 0, 0, 1, 0, 0, 0, 0, 1, 0, 0, 0, 1, 0, 0, 1, 0, 0, 1,\n",
              "       0, 0, 1, 0, 1, 0, 0, 0, 0, 0, 0, 1, 0, 0, 0, 0, 0, 0, 0, 0, 0, 0,\n",
              "       0, 1, 0, 0, 0, 0, 0, 1, 0, 0, 0, 1, 0, 0, 0, 0, 0, 0, 0, 0, 1, 0,\n",
              "       0, 0, 1, 0, 0, 0, 0, 0, 1, 0, 0, 0, 0, 0, 0, 0, 0, 0, 0, 0, 0, 0,\n",
              "       1, 0, 0, 0, 0, 0, 0, 0, 0, 0, 0, 0, 0, 0, 1, 1, 0, 0, 0, 0, 0, 0,\n",
              "       0, 0, 0, 0, 0, 0, 0, 0, 0, 0, 0, 0, 0, 1, 0, 0, 0, 1, 0, 0, 1, 0,\n",
              "       0, 0, 0, 1, 0, 0, 1, 1, 0, 0, 1, 0, 1, 1, 1, 0, 0, 1, 0, 0, 1, 0,\n",
              "       0, 0, 0, 1, 1, 0, 0, 1, 1, 1, 1, 0, 0, 0, 0, 0, 0, 0, 1, 1, 1, 1,\n",
              "       0, 0, 0, 0, 0, 0, 0, 0, 0, 0, 0, 0, 1, 0, 0, 0, 0, 0, 0, 0, 1, 0,\n",
              "       0, 0, 0, 0, 0, 0, 0, 0, 1, 0, 0, 0, 1, 0, 0, 0, 1, 0, 0, 0, 0, 1,\n",
              "       1, 0, 0, 0, 1, 0, 0, 0, 0, 0, 0, 0, 0, 0, 0, 0, 0, 0, 1, 1, 1, 0,\n",
              "       0, 0, 0, 0, 0, 0, 1, 0, 0, 1, 0, 0, 0, 0, 0, 0, 0, 0, 0, 0, 1, 0,\n",
              "       1, 0, 0, 1, 0, 0, 0, 0, 0, 0, 0, 0, 0, 0, 1, 0, 1, 0, 0, 0, 1, 1,\n",
              "       1, 0, 0, 0, 0, 1, 1, 0, 0, 0, 0, 0, 0, 0, 0, 1, 0, 0, 0, 0, 0, 0,\n",
              "       0, 0, 1, 0, 0, 0, 0, 1, 0, 0, 0, 0, 0, 0, 0, 1, 0, 1, 0, 1, 1, 0,\n",
              "       0, 0, 0, 0, 0, 0, 0, 0, 0, 0, 0, 0, 0, 0, 1, 0, 1, 0, 1, 1, 0, 0,\n",
              "       0, 0, 0, 0, 1, 0, 0, 1, 0, 1, 1, 0, 0, 1, 1, 0, 0, 0, 1, 1, 0, 0,\n",
              "       0, 1, 0, 0, 0, 0, 0, 0, 0, 0, 1, 0, 0, 0, 0, 0, 1, 0, 0, 0, 0, 0,\n",
              "       0, 0, 0, 0, 0, 0, 1, 0, 0, 0, 0, 0, 0, 0, 0, 0, 0, 0, 0, 0, 0, 0,\n",
              "       0, 0, 0, 1, 0, 0, 0, 0, 1, 0, 0, 0, 0, 0, 0, 0, 0, 1, 1, 0, 0, 0,\n",
              "       0, 0, 0, 0, 0, 1, 0, 0, 0, 0, 0, 0, 0, 1, 0, 0, 0, 0, 0, 0, 0, 1,\n",
              "       0, 0, 0, 0, 0, 0, 0, 0, 0, 0, 0, 0, 0, 0, 0, 1, 0, 0, 0, 1, 0, 0,\n",
              "       0, 0, 0, 0, 1, 0, 1, 0, 0, 0, 1, 0, 0, 0, 0, 0, 0, 0, 1, 0, 0, 1,\n",
              "       1, 0, 0, 0, 0, 0, 0, 0, 1, 0, 0, 0, 0, 0, 0, 1, 1, 0, 0, 0, 1, 0,\n",
              "       0, 0, 0, 0, 0, 1, 0, 0, 0, 0, 0, 0, 0, 0, 0, 0, 0, 1, 0, 0, 1, 0,\n",
              "       1, 0, 0, 1, 0, 0, 0, 0, 0, 0, 0, 0, 0, 0, 0, 0, 0, 0, 0, 0, 0, 0,\n",
              "       0, 0, 1, 0, 1, 0, 0, 0, 0, 0], dtype=int32)"
            ]
          },
          "metadata": {},
          "execution_count": 98
        }
      ]
    },
    {
      "cell_type": "code",
      "source": [
        "ratings_test = np.zeros((n_users, n_movies))\n",
        "for row in X_test.itertuples():\n",
        "    ratings_test[row[5]-1, row[4]-1] = row[6]"
      ],
      "metadata": {
        "id": "rFbzyr7jj1QN"
      },
      "execution_count": null,
      "outputs": []
    },
    {
      "cell_type": "code",
      "source": [
        "sparsity = float(len(ratings_test.nonzero()[0]))\n",
        "sparsity /= (ratings_test.shape[0] * ratings_test.shape[1])\n",
        "sparsity *= 100\n",
        "print('Sparsity: {:4.2f}%'.format(sparsity))"
      ],
      "metadata": {
        "colab": {
          "base_uri": "https://localhost:8080/"
        },
        "id": "l_ZCwqv_j30C",
        "outputId": "410874ba-ecf8-4b29-90a8-b15b30385311"
      },
      "execution_count": null,
      "outputs": [
        {
          "output_type": "stream",
          "name": "stdout",
          "text": [
            "Sparsity: 0.67%\n"
          ]
        }
      ]
    },
    {
      "cell_type": "code",
      "source": [
        "# Predict ratings for test set\n",
        "inputTest = ratings_test\n",
        "inputTest = inputTest.astype(np.float32)\n",
        "finalOutput_test, reconstructedOutput_test, _ = rbm.rbm_output(inputTest)"
      ],
      "metadata": {
        "id": "m3dq0_82jvw2"
      },
      "execution_count": null,
      "outputs": []
    },
    {
      "cell_type": "code",
      "source": [
        "testpredictionsArray = reconstructedOutput_test\n",
        "testpredictionsArray = tf.reshape(testpredictionsArray, shape = [-1])\n",
        "non_zero_ratings_test = ratings_test.nonzero()\n",
        "non_zero_ratings_test = np.concatenate([non_zero_ratings_test[0], non_zero_ratings_test[1]])\n",
        "ratings_test = tf.reshape(ratings_test, shape = [-1])"
      ],
      "metadata": {
        "id": "bC6FRIIukDXv"
      },
      "execution_count": null,
      "outputs": []
    },
    {
      "cell_type": "code",
      "source": [
        "pred_test = []\n",
        "\n",
        "for element in non_zero_ratings_test:\n",
        "\n",
        "  pred_test.append(testpredictionsArray[element])"
      ],
      "metadata": {
        "id": "22YmuQOTkXtJ"
      },
      "execution_count": null,
      "outputs": []
    },
    {
      "cell_type": "code",
      "source": [
        "pred_test = np.array(pred_test)\n",
        "pred_test"
      ],
      "metadata": {
        "colab": {
          "base_uri": "https://localhost:8080/"
        },
        "id": "Lk3CIotYkhPP",
        "outputId": "aaa05931-3236-4f15-bfe1-85402b7ee0c8"
      },
      "execution_count": null,
      "outputs": [
        {
          "output_type": "execute_result",
          "data": {
            "text/plain": [
              "array([0, 0, 0, ..., 0, 0, 0], dtype=int32)"
            ]
          },
          "metadata": {},
          "execution_count": 51
        }
      ]
    },
    {
      "cell_type": "code",
      "source": [
        "actual_test = []\n",
        "\n",
        "for element in non_zero_ratings_test:\n",
        "\n",
        "  actual_test.append(ratings_test[element])"
      ],
      "metadata": {
        "id": "Rveg6Xrwkj1r"
      },
      "execution_count": null,
      "outputs": []
    },
    {
      "cell_type": "code",
      "source": [
        "actual_test = np.array(actual_test)\n",
        "actual_test"
      ],
      "metadata": {
        "colab": {
          "base_uri": "https://localhost:8080/"
        },
        "id": "8hNXUNhuksA0",
        "outputId": "758d86af-14fd-401b-cc38-3554d612012e"
      },
      "execution_count": null,
      "outputs": [
        {
          "output_type": "execute_result",
          "data": {
            "text/plain": [
              "array([0., 0., 0., ..., 0., 0., 0.])"
            ]
          },
          "metadata": {},
          "execution_count": 53
        }
      ]
    },
    {
      "cell_type": "code",
      "source": [
        "pred_test.shape"
      ],
      "metadata": {
        "colab": {
          "base_uri": "https://localhost:8080/"
        },
        "id": "O8NNhlqokzFR",
        "outputId": "2f15d71e-1bd2-43eb-9bc1-d2dc20d43044"
      },
      "execution_count": null,
      "outputs": [
        {
          "output_type": "execute_result",
          "data": {
            "text/plain": [
              "(13318,)"
            ]
          },
          "metadata": {},
          "execution_count": 54
        }
      ]
    },
    {
      "cell_type": "code",
      "source": [
        "actual_test.shape"
      ],
      "metadata": {
        "colab": {
          "base_uri": "https://localhost:8080/"
        },
        "id": "Z9EXXYdrkzIC",
        "outputId": "2642140b-bcc1-483b-ddff-3ee37c49af6b"
      },
      "execution_count": null,
      "outputs": [
        {
          "output_type": "execute_result",
          "data": {
            "text/plain": [
              "(13318,)"
            ]
          },
          "metadata": {},
          "execution_count": 55
        }
      ]
    },
    {
      "cell_type": "code",
      "source": [
        "from sklearn.metrics import mean_squared_error\n",
        "\n",
        "rbm_prediction_test = mean_squared_error(pred_test, actual_test)\n",
        "print('Mean squared error using RBM prediction:', rbm_prediction_test)\n",
        "print('Root mean squared error using RBM prediction:', np.sqrt(rbm_prediction_test))"
      ],
      "metadata": {
        "colab": {
          "base_uri": "https://localhost:8080/"
        },
        "id": "Fx3zfZZmk6eY",
        "outputId": "cceb7036-b9ba-4104-bcd8-f203052a9060"
      },
      "execution_count": null,
      "outputs": [
        {
          "output_type": "stream",
          "name": "stdout",
          "text": [
            "Mean squared error using RBM prediction: 0.036022676077489116\n",
            "Root mean squared error using RBM prediction: 0.1897964069140644\n"
          ]
        }
      ]
    },
    {
      "cell_type": "code",
      "source": [
        "pred_test.shape"
      ],
      "metadata": {
        "colab": {
          "base_uri": "https://localhost:8080/"
        },
        "id": "EewqGHxIRUUJ",
        "outputId": "6b56bfba-a04a-4d0a-8125-01928801f16e"
      },
      "execution_count": null,
      "outputs": [
        {
          "output_type": "execute_result",
          "data": {
            "text/plain": [
              "(13318,)"
            ]
          },
          "metadata": {},
          "execution_count": 57
        }
      ]
    },
    {
      "cell_type": "code",
      "source": [
        "pred_test"
      ],
      "metadata": {
        "colab": {
          "base_uri": "https://localhost:8080/"
        },
        "id": "6p58cTc5RVds",
        "outputId": "c0f117fb-2537-4230-e7f6-cc0234bcd313"
      },
      "execution_count": null,
      "outputs": [
        {
          "output_type": "execute_result",
          "data": {
            "text/plain": [
              "array([0, 0, 0, ..., 0, 0, 0], dtype=int32)"
            ]
          },
          "metadata": {},
          "execution_count": 62
        }
      ]
    },
    {
      "cell_type": "code",
      "source": [],
      "metadata": {
        "id": "RRpuvHKxS21B"
      },
      "execution_count": null,
      "outputs": []
    }
  ]
}